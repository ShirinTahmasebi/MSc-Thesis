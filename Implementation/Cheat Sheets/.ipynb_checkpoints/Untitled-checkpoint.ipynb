{
 "cells": [
  {
   "cell_type": "markdown",
   "metadata": {},
   "source": [
    "# Nodejs CheatSheet - Scheduled Tasks"
   ]
  },
  {
   "cell_type": "markdown",
   "metadata": {},
   "source": [
    "## Scheduled Task Using Cron"
   ]
  },
  {
   "cell_type": "markdown",
   "metadata": {},
   "source": [
    "Cron is a tool that allows you to execute _something_ on a schedule. This is typically done using the cron syntax. We allow you to execute a function whenever your scheduled job triggers. We also allow you to execute a job external to the javascript process using `child_process`. Additionally, this library goes beyond the basic cron syntax and allows you to supply a Date object. This will be used as the trigger for your callback. Cron syntax is still an acceptable CronTime format. Although the Cron patterns supported here extend on the standard Unix format to support seconds digits, leaving it off will default to 0 and match the Unix behavior."
   ]
  },
  {
   "cell_type": "markdown",
   "metadata": {},
   "source": [
    "To install cron enter this command: `npm install cron`. Source code can be found [here](https://github.com/kelektiv/node-cron). Also, some examples are provided [here](https://github.com/kelektiv/node-cron/tree/master/examples)."
   ]
  },
  {
   "cell_type": "markdown",
   "metadata": {},
   "source": [
    "When specifying your cron values you'll need to make sure that your values fall within the ranges. For instance, some cron's use a 0-7 range for the day of week where both 0 and 7 represent Sunday. We do not. And that is an optimisation.\n",
    " * Seconds: 0-59\n",
    " * Minutes: 0-59\n",
    " * Hours: 0-23\n",
    " * Day of Month: 1-31\n",
    " * Months: 0-11 (Jan-Dec)\n",
    " * Day of Week: 0-6 (Sun-Sat)"
   ]
  },
  {
   "cell_type": "markdown",
   "metadata": {},
   "source": [
    "## Gotchas\n",
    "\n",
    "* Millisecond level granularity in JS or moment date objects. Because computers take time to do things, there may be some delay in execution. This should be on the order of milliseconds. This module doesn't allow MS level granularity for the regular cron syntax, but _does_ allow you to specify a real date of execution in either a javascript date object or a moment object. When this happens you may find that you aren't able to execute a job that _should_ run in the future like with `new Date().setMilliseconds(new Date().getMilliseconds() + 1)`. This is due to those cycles of execution above. This wont be the same for everyone because of compute speed. When I tried it locally I saw that somewhere around the 4-5 ms mark was where I got consistent ticks using real dates, but anything less than that would result in an exception. This could be really confusing. We could restrict the granularity for all dates to seconds, but felt that it wasn't a huge problem so long as you were made aware. If this becomes more of an issue, We can revisit it.\n",
    "* Arrow Functions for `onTick` Arrow functions get their `this` context from their parent scope. Thus, if you use them, you will not get the `this` context of the cronjob. You can read a little more in this ticket [GH-40](https://github.com/kelektiv/node-cron/issues/47#issuecomment-459762775)\n",
    "\n",
    "\n",
    "## API\n",
    "\n",
    "Parameter Based\n",
    "\n",
    "* `job` - shortcut to `new cron.CronJob()`.\n",
    "* `time` - shortcut to `new cron.CronTime()`.\n",
    "* `sendAt` - tells you when a `CronTime` will be run.\n",
    "* `timeout` - tells you when the next timeout is.\n",
    "* `CronJob`\n",
    "  * `constructor(cronTime, onTick, onComplete, start, timezone, context,\n",
    "\trunOnInit, unrefTimeout)` - Of note, the first parameter here can be a JSON object that\n",
    "\thas the below names and associated types (see examples above).\n",
    "    * `cronTime` - [REQUIRED] - The time to fire off your job. This can be in\n",
    "\t\tthe form of cron syntax or a JS\n",
    "\t\t[Date](https://developer.mozilla.org/en/JavaScript/Reference/Global_Objects/Date) object.\n",
    "    * `onTick` - [REQUIRED] - The function to fire at the specified time. If an\n",
    "\t\t`onComplete` callback was provided, `onTick` will receive it as an argument.\n",
    "\t\t`onTick` may call `onComplete` when it has finished its work.\n",
    "    * `onComplete` - [OPTIONAL] - A function that will fire when the job is\n",
    "\t\tstopped with `job.stop()`, and may also be called by `onTick` at the end of each run.\n",
    "    * `start` - [OPTIONAL] - Specifies whether to start the job just before\n",
    "\t\texiting the constructor. By default this is set to false. If left at default\n",
    "\t\tyou will need to call `job.start()` in order to start the job (assuming\n",
    "\t\t`job` is the variable you set the cronjob to). This does not immediately\n",
    "\t\tfire your `onTick` function, it just gives you more control over the\n",
    "\t\tbehavior of your jobs.\n",
    "    * `timeZone` - [OPTIONAL] - Specify the timezone for the execution. This\n",
    "\t\twill modify the actual time relative to your timezone. If the timezone is\n",
    "\t\tinvalid, an error is thrown. You can check all timezones available at\n",
    "\t\t[Moment Timezone Website](http://momentjs.com/timezone/). Probably don't use\n",
    "\t\tboth.\n",
    "\t\t`timeZone` and `utcOffset` together or weird things may happen.\n",
    "    * `context` - [OPTIONAL] - The context within which to execute the onTick\n",
    "\t\tmethod. This defaults to the cronjob itself allowing you to call\n",
    "\t\t`this.stop()`. However, if you change this you'll have access to the\n",
    "\t\tfunctions and values within your context object.\n",
    "    * `runOnInit` - [OPTIONAL] - This will immediately fire your `onTick`\n",
    "\t\tfunction as soon as the requisite initialization has happened. This option\n",
    "\t\tis set to `false` by default for backwards compatibility.\n",
    "    * `utcOffset` - [OPTIONAL] - This allows you to specify the offset of your\n",
    "\t\ttimezone rather than using the `timeZone` param. Probably don't use both\n",
    "\t\t`timeZone` and `utcOffset` together or weird things may happen.\n",
    "    * `unrefTimeout` - [OPTIONAL] - If you have code that keeps the event loop\n",
    "\t\trunning and want to stop the node process when that finishes regardless of\n",
    "\t\tthe state of your cronjob, you can do so making use of this parameter. This\n",
    "\t\tis off by default and cron will run as if it needs to control the event\n",
    "\t\tloop. For more information take a look at\n",
    "\t\t[timers#timers_timeout_unref](https://nodejs.org/api/timers.html#timers_timeout_unref)\n",
    "\t\tfrom the NodeJS docs.\n",
    "  * `start` - Runs your job.\n",
    "  * `stop` - Stops your job.\n",
    "  * `setTime` - Stops and changes the time for the `CronJob`. Param must be a `CronTime`.\n",
    "  * `lastDate` - Tells you the last execution date.\n",
    "  * `nextDates` - Provides an array of the next set of dates that will trigger an `onTick`.\n",
    "  * `fireOnTick` - Allows you to override the `onTick` calling behavior. This\n",
    "\tmatters so only do this if you have a really good reason to do so.\n",
    "  * `addCallback` - Allows you to add `onTick` callbacks.\n",
    "* `CronTime`\n",
    "  * `constructor(time)`\n",
    "    * `time` - [REQUIRED] - The time to fire off your job. This can be in the\n",
    "\t\tform of cron syntax or a JS\n",
    "\t\t[Date](https://developer.mozilla.org/en/JavaScript/Reference/Global_Objects/Date)\n",
    "\t\tobject."
   ]
  },
  {
   "cell_type": "markdown",
   "metadata": {},
   "source": [
    "## Usage"
   ]
  },
  {
   "cell_type": "markdown",
   "metadata": {},
   "source": [
    "### Simple Usage\n",
    "This is a simple example of cron usage. The parameters used in constructor are: `cronTime`, `onTick`, `onComplete`, `startNow`, `timeZone`.\n",
    "\n",
    "```javascript\n",
    "var CronJob = require('cron').CronJob;\n",
    "new CronJob('* * * * * *', function() {\n",
    "  console.log('You will see this message every second');\n",
    "}, null, true, 'America/Los_Angeles');\n",
    "```\n",
    "\n",
    "Note - You need to explicitly start a job in order to make it run. This gives a\n",
    "little more control over running your jobs."
   ]
  },
  {
   "cell_type": "markdown",
   "metadata": {},
   "source": [
    "### Long Running OnTick\n",
    "```javascript\n",
    "const CronJob = require('cron').CronJob;\n",
    "\n",
    "let isRunning = false;\n",
    "console.log('Before job instantiation');\n",
    "const job = new CronJob('* * * * * *', function() {\n",
    "\tconst d = new Date();\n",
    "\tconsole.log('Check every second:', d, ', isRunning: ', isRunning);\n",
    "    \n",
    "\tif (!isRunning) {\n",
    "\t\tisRunning = true;\n",
    "        \n",
    "\t\tsetTimeout(function() {\n",
    "\t\t\tconsole.log('Long running onTick complete:', new Date());\n",
    "\t\t\tisRunning = false;\n",
    "\t\t}, 3000);\n",
    "\t\tconsole.log('setTimeout triggered:', new Date());\n",
    "\t}\n",
    "});\n",
    "console.log('After job instantiation');\n",
    "job.start();\n",
    "```"
   ]
  },
  {
   "cell_type": "markdown",
   "metadata": {},
   "source": [
    "### Execute Every Minute\n",
    "```javascript\n",
    "console.log('Before job instantiation');\n",
    "const job = new CronJob('0 */1 * * * *', function() {\n",
    "  const d = new Date();\n",
    "  console.log('Every One Minute:', d);\n",
    "});\n",
    "console.log('After job instantiation');\n",
    "job.start();\n",
    "```"
   ]
  },
  {
   "cell_type": "markdown",
   "metadata": {},
   "source": [
    "### Stop a Job\n",
    "```javascript\n",
    "console.log('Before job instantiation');\n",
    "let counter = 0;\n",
    "const job = new CronJob('0 */1 * * * *', function() {\n",
    "  const d = new Date();\n",
    "  counter ++;\n",
    "  if(counter > 1){\n",
    "    job.stop();\n",
    "  }\n",
    "  console.log('Every One Minute:', d);\n",
    "});\n",
    "console.log('After job instantiation');\n",
    "job.start();\n",
    "```"
   ]
  },
  {
   "cell_type": "code",
   "execution_count": null,
   "metadata": {},
   "outputs": [],
   "source": []
  }
 ],
 "metadata": {
  "kernelspec": {
   "display_name": "Javascript (Node.js)",
   "language": "javascript",
   "name": "javascript"
  },
  "language_info": {
   "file_extension": ".js",
   "mimetype": "application/javascript",
   "name": "javascript",
   "version": "10.10.0"
  }
 },
 "nbformat": 4,
 "nbformat_minor": 2
}
