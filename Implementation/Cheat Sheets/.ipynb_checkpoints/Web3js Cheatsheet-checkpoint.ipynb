{
 "cells": [
  {
   "cell_type": "markdown",
   "metadata": {},
   "source": [
    "# Web3js Client Cheatsheet"
   ]
  },
  {
   "cell_type": "markdown",
   "metadata": {},
   "source": [
    "## What is Web3js?\n",
    "web3.js is a collection of libraries which allow you to interact with a local or remote ethereum node, using a HTTP or IPC connection. There are 4 main modules in web3js library:\n",
    "- The `web3-eth` is for the ethereum blockchain and smart contracts\n",
    "- The `web3-shh` is for the whisper protocol to communicate p2p and broadcast\n",
    "- The `web3-bzz` is for the swarm protocol, the decentralized file storage\n",
    "- The `web3-utils` contains useful helper functions for Dapp developers.\n",
    "\n",
    "To install web3js we can use npm package manager: `npm install web3`. So, It is necessary to check if nodejs has been installed.\n",
    "\n",
    "Here we are going to have a quick overview of the most important and most frequent parts and methods. But for more informations on each of the following sections please refer to [web3js homepage](https://web3js.readthedocs.io).\n",
    "\n",
    "An overview of web3js architecture is presented in the image below: (ref [DApp University](http://www.dappuniversity.com/articles/web3-js-intro))\n",
    "![Web3js Architecture Overview](http://www.dappuniversity.com/web3-js-diagram.png \"Web3js Architecture Overview\")"
   ]
  },
  {
   "cell_type": "markdown",
   "metadata": {},
   "source": [
    "## Get a Deployed Smart Contract\n",
    "\n",
    "In this example I have used infura mainnet. Infura provides an ethereum node on serveral networks.\n",
    "Generic url address format is: `https://<network>.infura.io/v3/YOUR-PROJECT-ID`.\n",
    "\n",
    "In these lines we are instantiating an instance of Web3 claas which contains all modules related to ethereum."
   ]
  },
  {
   "cell_type": "code",
   "execution_count": 1,
   "metadata": {},
   "outputs": [],
   "source": [
    "var Web3 = require(\"web3\");\n",
    "var web3 = new Web3(\"https://mainnet.infura.io/v3/044d4f53bdb7433f8e0442085ef38ea6\");"
   ]
  },
  {
   "cell_type": "markdown",
   "metadata": {},
   "source": [
    "From top tokens which are listed in etherscan.io, navigate to `Tether USD` token. Then from 'Profile Summary', click on contract address hash address link. In this page `Tether USD` token contract's abi and code are available.\n",
    "\n",
    "This piece of code is used to get a contract by its abi and hash address:"
   ]
  },
  {
   "cell_type": "code",
   "execution_count": 2,
   "metadata": {},
   "outputs": [
    {
     "name": "stdout",
     "output_type": "stream",
     "text": [
      "Promise { <pending> }\n",
      "Token name is: Tether USD\n",
      "Token total supply is: 2003993042780251\n"
     ]
    },
    {
     "data": {
      "text/plain": [
       "'2003993042780251'"
      ]
     },
     "execution_count": 2,
     "metadata": {},
     "output_type": "execute_result"
    },
    {
     "name": "stdout",
     "output_type": "stream",
     "text": [
      "Token symbol is: USDT\n"
     ]
    }
   ],
   "source": [
    "var abi = [{\"constant\":true,\"inputs\":[],\"name\":\"name\",\"outputs\":[{\"name\":\"\",\"type\":\"string\"}],\"payable\":false,\"stateMutability\":\"view\",\"type\":\"function\"},{\"constant\":false,\"inputs\":[{\"name\":\"_upgradedAddress\",\"type\":\"address\"}],\"name\":\"deprecate\",\"outputs\":[],\"payable\":false,\"stateMutability\":\"nonpayable\",\"type\":\"function\"},{\"constant\":false,\"inputs\":[{\"name\":\"_spender\",\"type\":\"address\"},{\"name\":\"_value\",\"type\":\"uint256\"}],\"name\":\"approve\",\"outputs\":[],\"payable\":false,\"stateMutability\":\"nonpayable\",\"type\":\"function\"},{\"constant\":true,\"inputs\":[],\"name\":\"deprecated\",\"outputs\":[{\"name\":\"\",\"type\":\"bool\"}],\"payable\":false,\"stateMutability\":\"view\",\"type\":\"function\"},{\"constant\":false,\"inputs\":[{\"name\":\"_evilUser\",\"type\":\"address\"}],\"name\":\"addBlackList\",\"outputs\":[],\"payable\":false,\"stateMutability\":\"nonpayable\",\"type\":\"function\"},{\"constant\":true,\"inputs\":[],\"name\":\"totalSupply\",\"outputs\":[{\"name\":\"\",\"type\":\"uint256\"}],\"payable\":false,\"stateMutability\":\"view\",\"type\":\"function\"},{\"constant\":false,\"inputs\":[{\"name\":\"_from\",\"type\":\"address\"},{\"name\":\"_to\",\"type\":\"address\"},{\"name\":\"_value\",\"type\":\"uint256\"}],\"name\":\"transferFrom\",\"outputs\":[],\"payable\":false,\"stateMutability\":\"nonpayable\",\"type\":\"function\"},{\"constant\":true,\"inputs\":[],\"name\":\"upgradedAddress\",\"outputs\":[{\"name\":\"\",\"type\":\"address\"}],\"payable\":false,\"stateMutability\":\"view\",\"type\":\"function\"},{\"constant\":true,\"inputs\":[{\"name\":\"\",\"type\":\"address\"}],\"name\":\"balances\",\"outputs\":[{\"name\":\"\",\"type\":\"uint256\"}],\"payable\":false,\"stateMutability\":\"view\",\"type\":\"function\"},{\"constant\":true,\"inputs\":[],\"name\":\"decimals\",\"outputs\":[{\"name\":\"\",\"type\":\"uint256\"}],\"payable\":false,\"stateMutability\":\"view\",\"type\":\"function\"},{\"constant\":true,\"inputs\":[],\"name\":\"maximumFee\",\"outputs\":[{\"name\":\"\",\"type\":\"uint256\"}],\"payable\":false,\"stateMutability\":\"view\",\"type\":\"function\"},{\"constant\":true,\"inputs\":[],\"name\":\"_totalSupply\",\"outputs\":[{\"name\":\"\",\"type\":\"uint256\"}],\"payable\":false,\"stateMutability\":\"view\",\"type\":\"function\"},{\"constant\":false,\"inputs\":[],\"name\":\"unpause\",\"outputs\":[],\"payable\":false,\"stateMutability\":\"nonpayable\",\"type\":\"function\"},{\"constant\":true,\"inputs\":[{\"name\":\"_maker\",\"type\":\"address\"}],\"name\":\"getBlackListStatus\",\"outputs\":[{\"name\":\"\",\"type\":\"bool\"}],\"payable\":false,\"stateMutability\":\"view\",\"type\":\"function\"},{\"constant\":true,\"inputs\":[{\"name\":\"\",\"type\":\"address\"},{\"name\":\"\",\"type\":\"address\"}],\"name\":\"allowed\",\"outputs\":[{\"name\":\"\",\"type\":\"uint256\"}],\"payable\":false,\"stateMutability\":\"view\",\"type\":\"function\"},{\"constant\":true,\"inputs\":[],\"name\":\"paused\",\"outputs\":[{\"name\":\"\",\"type\":\"bool\"}],\"payable\":false,\"stateMutability\":\"view\",\"type\":\"function\"},{\"constant\":true,\"inputs\":[{\"name\":\"who\",\"type\":\"address\"}],\"name\":\"balanceOf\",\"outputs\":[{\"name\":\"\",\"type\":\"uint256\"}],\"payable\":false,\"stateMutability\":\"view\",\"type\":\"function\"},{\"constant\":false,\"inputs\":[],\"name\":\"pause\",\"outputs\":[],\"payable\":false,\"stateMutability\":\"nonpayable\",\"type\":\"function\"},{\"constant\":true,\"inputs\":[],\"name\":\"getOwner\",\"outputs\":[{\"name\":\"\",\"type\":\"address\"}],\"payable\":false,\"stateMutability\":\"view\",\"type\":\"function\"},{\"constant\":true,\"inputs\":[],\"name\":\"owner\",\"outputs\":[{\"name\":\"\",\"type\":\"address\"}],\"payable\":false,\"stateMutability\":\"view\",\"type\":\"function\"},{\"constant\":true,\"inputs\":[],\"name\":\"symbol\",\"outputs\":[{\"name\":\"\",\"type\":\"string\"}],\"payable\":false,\"stateMutability\":\"view\",\"type\":\"function\"},{\"constant\":false,\"inputs\":[{\"name\":\"_to\",\"type\":\"address\"},{\"name\":\"_value\",\"type\":\"uint256\"}],\"name\":\"transfer\",\"outputs\":[],\"payable\":false,\"stateMutability\":\"nonpayable\",\"type\":\"function\"},{\"constant\":false,\"inputs\":[{\"name\":\"newBasisPoints\",\"type\":\"uint256\"},{\"name\":\"newMaxFee\",\"type\":\"uint256\"}],\"name\":\"setParams\",\"outputs\":[],\"payable\":false,\"stateMutability\":\"nonpayable\",\"type\":\"function\"},{\"constant\":false,\"inputs\":[{\"name\":\"amount\",\"type\":\"uint256\"}],\"name\":\"issue\",\"outputs\":[],\"payable\":false,\"stateMutability\":\"nonpayable\",\"type\":\"function\"},{\"constant\":false,\"inputs\":[{\"name\":\"amount\",\"type\":\"uint256\"}],\"name\":\"redeem\",\"outputs\":[],\"payable\":false,\"stateMutability\":\"nonpayable\",\"type\":\"function\"},{\"constant\":true,\"inputs\":[{\"name\":\"_owner\",\"type\":\"address\"},{\"name\":\"_spender\",\"type\":\"address\"}],\"name\":\"allowance\",\"outputs\":[{\"name\":\"remaining\",\"type\":\"uint256\"}],\"payable\":false,\"stateMutability\":\"view\",\"type\":\"function\"},{\"constant\":true,\"inputs\":[],\"name\":\"basisPointsRate\",\"outputs\":[{\"name\":\"\",\"type\":\"uint256\"}],\"payable\":false,\"stateMutability\":\"view\",\"type\":\"function\"},{\"constant\":true,\"inputs\":[{\"name\":\"\",\"type\":\"address\"}],\"name\":\"isBlackListed\",\"outputs\":[{\"name\":\"\",\"type\":\"bool\"}],\"payable\":false,\"stateMutability\":\"view\",\"type\":\"function\"},{\"constant\":false,\"inputs\":[{\"name\":\"_clearedUser\",\"type\":\"address\"}],\"name\":\"removeBlackList\",\"outputs\":[],\"payable\":false,\"stateMutability\":\"nonpayable\",\"type\":\"function\"},{\"constant\":true,\"inputs\":[],\"name\":\"MAX_UINT\",\"outputs\":[{\"name\":\"\",\"type\":\"uint256\"}],\"payable\":false,\"stateMutability\":\"view\",\"type\":\"function\"},{\"constant\":false,\"inputs\":[{\"name\":\"newOwner\",\"type\":\"address\"}],\"name\":\"transferOwnership\",\"outputs\":[],\"payable\":false,\"stateMutability\":\"nonpayable\",\"type\":\"function\"},{\"constant\":false,\"inputs\":[{\"name\":\"_blackListedUser\",\"type\":\"address\"}],\"name\":\"destroyBlackFunds\",\"outputs\":[],\"payable\":false,\"stateMutability\":\"nonpayable\",\"type\":\"function\"},{\"inputs\":[{\"name\":\"_initialSupply\",\"type\":\"uint256\"},{\"name\":\"_name\",\"type\":\"string\"},{\"name\":\"_symbol\",\"type\":\"string\"},{\"name\":\"_decimals\",\"type\":\"uint256\"}],\"payable\":false,\"stateMutability\":\"nonpayable\",\"type\":\"constructor\"},{\"anonymous\":false,\"inputs\":[{\"indexed\":false,\"name\":\"amount\",\"type\":\"uint256\"}],\"name\":\"Issue\",\"type\":\"event\"},{\"anonymous\":false,\"inputs\":[{\"indexed\":false,\"name\":\"amount\",\"type\":\"uint256\"}],\"name\":\"Redeem\",\"type\":\"event\"},{\"anonymous\":false,\"inputs\":[{\"indexed\":false,\"name\":\"newAddress\",\"type\":\"address\"}],\"name\":\"Deprecate\",\"type\":\"event\"},{\"anonymous\":false,\"inputs\":[{\"indexed\":false,\"name\":\"feeBasisPoints\",\"type\":\"uint256\"},{\"indexed\":false,\"name\":\"maxFee\",\"type\":\"uint256\"}],\"name\":\"Params\",\"type\":\"event\"},{\"anonymous\":false,\"inputs\":[{\"indexed\":false,\"name\":\"_blackListedUser\",\"type\":\"address\"},{\"indexed\":false,\"name\":\"_balance\",\"type\":\"uint256\"}],\"name\":\"DestroyedBlackFunds\",\"type\":\"event\"},{\"anonymous\":false,\"inputs\":[{\"indexed\":false,\"name\":\"_user\",\"type\":\"address\"}],\"name\":\"AddedBlackList\",\"type\":\"event\"},{\"anonymous\":false,\"inputs\":[{\"indexed\":false,\"name\":\"_user\",\"type\":\"address\"}],\"name\":\"RemovedBlackList\",\"type\":\"event\"},{\"anonymous\":false,\"inputs\":[{\"indexed\":true,\"name\":\"owner\",\"type\":\"address\"},{\"indexed\":true,\"name\":\"spender\",\"type\":\"address\"},{\"indexed\":false,\"name\":\"value\",\"type\":\"uint256\"}],\"name\":\"Approval\",\"type\":\"event\"},{\"anonymous\":false,\"inputs\":[{\"indexed\":true,\"name\":\"from\",\"type\":\"address\"},{\"indexed\":true,\"name\":\"to\",\"type\":\"address\"},{\"indexed\":false,\"name\":\"value\",\"type\":\"uint256\"}],\"name\":\"Transfer\",\"type\":\"event\"},{\"anonymous\":false,\"inputs\":[],\"name\":\"Pause\",\"type\":\"event\"},{\"anonymous\":false,\"inputs\":[],\"name\":\"Unpause\",\"type\":\"event\"}];\n",
    "var contractAddress = \"0xdAC17F958D2ee523a2206206994597C13D831ec7\";\n",
    "var contract = new web3.eth.Contract(abi, contractAddress);\n",
    "console.log(contract.methods.name().call());\n",
    "contract.methods.name().call((err, result) => {console.log(\"Token name is: \" + result)});\n",
    "contract.methods.symbol().call((err, result) => {console.log(\"Token symbol is: \" + result)});\n",
    "contract.methods.totalSupply().call((err, result) => {console.log(\"Token total supply is: \" + result)});"
   ]
  },
  {
   "cell_type": "markdown",
   "metadata": {},
   "source": [
    "## Working With Transactions\n",
    "\n",
    "In this section we are going to have a quick review on how to send transactions to ethereum blockchain mannually. To do that we will use a popular library which is available on [github repository](https://github.com/ethereumjs/ethereumjs-tx). EthereumJs-Tx is a simple module for creating, manipulating and signing ethereum transactions. It can be installed using npm package manager: `npm install ethereumjs-tx`.\n"
   ]
  },
  {
   "cell_type": "markdown",
   "metadata": {},
   "source": [
    "Now we are going to test how to send a transaction to ethereum using this library. So, in this section we are going to use a local ethereum test network (via Ganache) and 2 accounts of this network which their address hash code is `0xa99D9ee6f9a5B42bc9A91A57742eb1975c1E3526` and `0x7A0Ba30c1F4d13beeaA64b651f5A71570920A637`."
   ]
  },
  {
   "cell_type": "code",
   "execution_count": 4,
   "metadata": {},
   "outputs": [],
   "source": [
    "var Web3 = require(\"web3\");\n",
    "var web3 = new Web3(\"http://127.0.0.1:7545\");"
   ]
  },
  {
   "cell_type": "code",
   "execution_count": 7,
   "metadata": {},
   "outputs": [],
   "source": [
    "var account1 = \"0x74AdDab05D1d51d37703DA09e53021C77f9B0eC2\";\n",
    "var account2 = \"0x2644F6E3B3524D91e2d04fe48653b110eC6Ca913\";"
   ]
  },
  {
   "cell_type": "markdown",
   "metadata": {},
   "source": [
    "Before trying to submit a transaction lets check these two accounts' balances. Then we can recheck it after submitting the transaction to make sure if it was successful or not."
   ]
  },
  {
   "cell_type": "code",
   "execution_count": 13,
   "metadata": {},
   "outputs": [
    {
     "name": "stdout",
     "output_type": "stream",
     "text": [
      "98999580000000000000\n",
      "101000000000000000000\n",
      "98999580000000000000\n",
      "101000000000000000000\n"
     ]
    },
    {
     "data": {
      "text/plain": [
       "'101000000000000000000'"
      ]
     },
     "execution_count": 13,
     "metadata": {},
     "output_type": "execute_result"
    }
   ],
   "source": [
    "// web3.eth.getAccounts((err, result) => console.log(result));\n",
    "\n",
    "// Get two accounts balances\n",
    "web3.eth.getBalance(account1, (err, result)=> {console.log(result);});\n",
    "web3.eth.getBalance(account2, (err, result)=> {console.log(result);});\n",
    "\n",
    "// Send 1 ether from account1 to account2\n",
    "web3.eth.sendTransaction({from: account1, to: account2, value: web3.utils.toWei('1', 'ether')});\n",
    "\n",
    "// Again get two accounts balances to check if transfering ether was successful or not\n",
    "web3.eth.getBalance(account1, (err, result)=> {console.log(result);});\n",
    "web3.eth.getBalance(account2, (err, result)=> {console.log(result);});"
   ]
  },
  {
   "cell_type": "markdown",
   "metadata": {},
   "source": [
    "But Why it is not necessary for account1 owner to sign this transaction? As it seems we have transferred money from one account to another without having permission from the source account owner. The reason is that in Ganache all accounts are unlocked by default. Which means that all transactions are signed automatically. But it is not true in a real network.\n",
    "\n",
    "So we are going to have a quick review of this concept (Locking or Unlocking account). In Web3js there is a module called `web3-eth-personal` which is designed to allow interacting with node's accounts. For example to unlock an account there is an api which is described in [this link](https://web3js.readthedocs.io/en/v1.2.1/web3-eth-personal.html#unlockaccount)."
   ]
  },
  {
   "cell_type": "code",
   "execution_count": 9,
   "metadata": {},
   "outputs": [
    {
     "name": "stdout",
     "output_type": "stream",
     "text": [
      "Account unlocked!\n"
     ]
    },
    {
     "data": {
      "text/plain": [
       "true"
      ]
     },
     "execution_count": 9,
     "metadata": {},
     "output_type": "execute_result"
    }
   ],
   "source": [
    "// Highly Unsecure! - Use Node Environment Variables (process.env)\n",
    "var account1PrivateKey = \"cdaac5b32bb17fae9791a2f22ae06aae8df7dcc07f2b44739048ad116f44c8ce\";\n",
    "web3.eth.personal.unlockAccount(account1, account1PrivateKey).then(console.log('Account unlocked!'));"
   ]
  },
  {
   "cell_type": "markdown",
   "metadata": {},
   "source": [
    "Now It is time to use a test network which provide us some locked accounts. So in this way we can test our code better. To do that, we have created an account in Ropsten Test Network using metamask and entered account key and private key here.\n",
    "\n",
    "By the way, to charge the ropsten accounts with fake ethers use this [faucet](http://faucet.ropsten.be:3001/).\n",
    "But for me the above link didn't work. So I tried another [faucet](https://faucet.metamask.io/) which was easy and fast."
   ]
  },
  {
   "cell_type": "code",
   "execution_count": null,
   "metadata": {},
   "outputs": [],
   "source": [
    "var ropstenAccountKey2 = \"0xfbEe587D013Ac75d8C35f83f766FadC6788e1DBA\";\n",
    "// Highly Unsecure! - Use Node Environment Variables (process.env)\n",
    "var ropstenAccountPrivateKey2 = \"430715F29E026CA042DD09443DB1A12E190082EF92222C877B099CE8BEF1CEA3\";\n",
    "\n",
    "var ropstenAccountKey1 = \"0x2dA6E5b273d8B3Fa4E545Dc2239203fdc292636D\";\n",
    "// Highly Unsecure! - Use Node Environment Variables (process.env)\n",
    "var ropstenAccountPrivateKey1 = \"E54FA835C7FCF858C963FB4C72A830909CECF82297FC60155FBD19CFE73D5395\";"
   ]
  },
  {
   "cell_type": "markdown",
   "metadata": {},
   "source": [
    "Althought I have used metamask to create these accounts, there are other ways to create a Ropsten account. For example it is possible to do that using Web3js:"
   ]
  },
  {
   "cell_type": "code",
   "execution_count": null,
   "metadata": {},
   "outputs": [],
   "source": [
    "var Web3 = require(\"web3\");\n",
    "var web3 = new Web3(\"https://ropsten.infura.io/v3/044d4f53bdb7433f8e0442085ef38ea6\");\n",
    "\n",
    "const newAccount = web3.eth.accounts.create();\n",
    "\n",
    "console.log(newAccount.address);\n",
    "console.log(newAccount.privateKey);"
   ]
  },
  {
   "cell_type": "code",
   "execution_count": null,
   "metadata": {},
   "outputs": [],
   "source": [
    "web3.eth.getBalance(ropstenAccountKey1, (err, result)=> {console.log(result);});\n",
    "web3.eth.getBalance(ropstenAccountKey2, (err, result)=> {console.log(result);});"
   ]
  },
  {
   "cell_type": "markdown",
   "metadata": {},
   "source": [
    "Now lets send some ether from and to ropsten test accounts to see how sending transaction to or from locked accounts look like. There are 3 main stages in doing that:\n",
    "- Build Transaction\n",
    "- Sign Transaction\n",
    "- Broadcast Transaction\n",
    "\n",
    "Now we are going to do these 3 steps one by one:\n",
    "- Build Transaction: In this step we will create a json object that represents the transaction. All values in this json object should be in hex format. Some notes about the transaction object: \n",
    "    - To get hex values and put them in the transactoin object we can use `web3.utils.toHex`.\n",
    "    - `nonce` is just a sequential number tied to every transaction that represents the number of transactions the sender account has made on the network.\n",
    "    - We don't need 'from' field anymore. The reason is that we will use our private key to hash the transaction.\n",
    "\n",
    "- Sign Transaction: To sign a transactin we will use `ethereumjs-tx` library.\n",
    "\n",
    "- Broadcast Transaction: In this step we will use `web3.eth.sendSignedTransation`. Documentation is [available](https://web3js.readthedocs.io/en/v1.2.0/web3-eth.html#eth-sendsignedtransaction).\n"
   ]
  },
  {
   "cell_type": "code",
   "execution_count": 14,
   "metadata": {},
   "outputs": [
    {
     "name": "stdout",
     "output_type": "stream",
     "text": [
      "Transaction Hash: 0x2d3d99d1c01f49a2c121ebc8e3ade5dc630beefb0909539f6baff8f33ea971e5\n"
     ]
    }
   ],
   "source": [
    "web3.eth.getTransactionCount(ropstenAccountKey1).then(\n",
    "    (transactionCount) => {\n",
    "        nonce = transactionCount;\n",
    "        // Build Transaction\n",
    "        const txObject = {\n",
    "            nonce: web3.utils.toHex(nonce),\n",
    "            to: ropstenAccountKey2,\n",
    "            value: web3.utils.toHex(web3.utils.toWei('0.5', 'ether')),\n",
    "            gasLimit:  web3.utils.toHex(21000),\n",
    "            gasPrice:  web3.utils.toHex(web3.utils.toWei('10', 'gwei'))\n",
    "        };\n",
    "\n",
    "        \n",
    "        // Sign Transaction\n",
    "        var Tx = require(\"ethereumjs-tx\").Transaction;\n",
    "        const tx = new Tx(txObject, {chain:'ropsten', hardfork: 'petersburg'});\n",
    "        const privateKeyBuffer = Buffer.from(ropstenAccountPrivateKey1, \"hex\");\n",
    "        tx.sign(privateKeyBuffer);\n",
    "\n",
    "        const serializedTx = tx.serialize();\n",
    "        const raw = \"0x\" + serializedTx.toString('hex');\n",
    "                    \n",
    "        // Broadcast Transaction\n",
    "        web3.eth.sendSignedTransaction(raw, (err, txHash) => {\n",
    "            console.log(\"Transaction Hash:\", txHash);\n",
    "            if(txHash == undefined){\n",
    "                console.log(\"Transaction Error:\", err);\n",
    "            }\n",
    "        });\n",
    "    }\n",
    ");"
   ]
  },
  {
   "cell_type": "code",
   "execution_count": 17,
   "metadata": {},
   "outputs": [
    {
     "name": "stdout",
     "output_type": "stream",
     "text": [
      "1\n"
     ]
    }
   ],
   "source": [
    "web3.eth.getTransactionCount(ropstenAccountKey1).then(console.log);"
   ]
  },
  {
   "cell_type": "markdown",
   "metadata": {},
   "source": [
    "## Compile Smart Contracts Dynamically"
   ]
  },
  {
   "cell_type": "markdown",
   "metadata": {},
   "source": [
    "To deploy a smart contract using web3js we need to have contract abi (json interface). But what if we want to deploy a smart contract using its content (by contract text)? <br/>\n",
    "\n",
    "To do so, we need to first compile the smart contract to generate its abi and then deploy it using web3js. As far as  I know, there was a module in web3js named `web3.eth.compile.solidity(sourceString [, callback])` which could provide an interface to compile smart contracts by having their content [[1](https://ethereum.gitbooks.io/frontier-guide/web3.html#web3ethcompilesolidity)[2](https://github.com/ethereum/wiki/wiki/JavaScript-API#web3ethgetcompilers)]. But now it is deprecated and we should look for other ways to do that. "
   ]
  },
  {
   "cell_type": "code",
   "execution_count": 33,
   "metadata": {},
   "outputs": [
    {
     "name": "stdout",
     "output_type": "stream",
     "text": [
      "[ { inputs: [],\n",
      "    payable: false,\n",
      "    stateMutability: 'nonpayable',\n",
      "    type: 'constructor' },\n",
      "  { constant: true,\n",
      "    inputs: [],\n",
      "    name: 'getValue',\n",
      "    outputs: [ [Object] ],\n",
      "    payable: false,\n",
      "    stateMutability: 'view',\n",
      "    type: 'function' },\n",
      "  { constant: false,\n",
      "    inputs: [ [Object] ],\n",
      "    name: 'setValue',\n",
      "    outputs: [],\n",
      "    payable: false,\n",
      "    stateMutability: 'nonpayable',\n",
      "    type: 'function' } ]\n",
      "FirstContractNewVersion: 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\n"
     ]
    }
   ],
   "source": [
    "// https://github.com/ethereum/solc-js\n",
    "var solc = require('solc')\n",
    " \n",
    "var input = {\n",
    "    language: 'Solidity',\n",
    "    sources: {\n",
    "        'test.sol': {\n",
    "            content: 'pragma solidity ^0.5.0; contract FirstContractNewVersion {string value; constructor() public {value = \"Initial Value\"; } function setValue(string memory x ) public {value = x;} function getValue() public view returns(string memory) {return value;}}'\n",
    "        }\n",
    "    },\n",
    "    settings: {\n",
    "        outputSelection: {\n",
    "            '*': {\n",
    "                '*': [ '*' ]\n",
    "            }\n",
    "        }\n",
    "    }\n",
    "}\n",
    " \n",
    "var output = JSON.parse(solc.compile(JSON.stringify(input)))\n",
    "\n",
    "// Fetch abi of the compiled contract\n",
    "console.log(output.contracts['test.sol']['FirstContractNewVersion'].abi);\n",
    " \n",
    "// `output` here contains the JSON output as specified in the documentation\n",
    "for (var contractName in output.contracts['test.sol']) {\n",
    "    console.log(contractName + ': ' + output.contracts['test.sol'][contractName].evm.bytecode.object)\n",
    "}"
   ]
  },
  {
   "cell_type": "code",
   "execution_count": null,
   "metadata": {},
   "outputs": [],
   "source": [
    "console.log(output.contracts['test.sol']['FirstContractNewVersion'].evm.bytecode.object);"
   ]
  },
  {
   "cell_type": "code",
   "execution_count": null,
   "metadata": {},
   "outputs": [],
   "source": [
    "web3.eth.getTransactionCount(ropstenAccountKey1).then(\n",
    "    (transactionCount) => {\n",
    "        nonce = transactionCount;\n",
    "        // Build Transaction\n",
    "        const txObject = {\n",
    "            nonce: web3.utils.toHex(nonce),\n",
    "            gasLimit:  web3.utils.toHex(4700000),\n",
    "            gasPrice:  web3.utils.toHex(web3.utils.toWei('10', 'gwei')),\n",
    "            data: output.contracts['test.sol']['FirstContractNewVersion'].evm.bytecode.object\n",
    "        };\n",
    "\n",
    "        \n",
    "        // Sign Transaction\n",
    "        var Tx = require(\"ethereumjs-tx\").Transaction;\n",
    "        const tx = new Tx(txObject, {chain:'ropsten', hardfork: 'petersburg'});\n",
    "        const privateKeyBuffer = Buffer.from(ropstenAccountPrivateKey1, \"hex\");\n",
    "        tx.sign(privateKeyBuffer);\n",
    "\n",
    "        const serializedTx = tx.serialize();\n",
    "        const raw = \"0x\" + serializedTx.toString('hex');\n",
    "                    \n",
    "        // Broadcast Transaction\n",
    "        web3.eth.sendSignedTransaction(raw, (err, txHash) => {\n",
    "            console.log(\"Transaction Hash:\", txHash);\n",
    "            if(txHash == undefined){\n",
    "                console.log(\"Transaction Error:\", err);\n",
    "            }\n",
    "        });\n",
    "    }\n",
    ");"
   ]
  },
  {
   "cell_type": "code",
   "execution_count": null,
   "metadata": {},
   "outputs": [],
   "source": [
    "web3.eth.getTransactionCount(ropstenAccountKey1).then(\n",
    "    (transactionCount) => {\n",
    "        nonce = transactionCount;\n",
    "        // Build Transaction\n",
    "        const txObject = {\n",
    "            nonce: web3.utils.toHex(nonce),\n",
    "            gas: '4700000'\n",
    "            data: output.contracts['test.sol']['FirstContractNewVersion'].evm.bytecode.object\n",
    "        };\n",
    "\n",
    "        \n",
    "        // Sign Transaction\n",
    "        var Tx = require(\"ethereumjs-tx\").Transaction;\n",
    "        const tx = new Tx(txObject, {chain:'ropsten', hardfork: 'petersburg'});\n",
    "        const privateKeyBuffer = Buffer.from(ropstenAccountPrivateKey1, \"hex\");\n",
    "        tx.sign(privateKeyBuffer);\n",
    "\n",
    "        const serializedTx = tx.serialize();\n",
    "        const raw = \"0x\" + serializedTx.toString('hex');\n",
    "                    \n",
    "        // Broadcast Transaction\n",
    "        web3.eth.sendSignedTransaction(raw, (err, txHash) => {\n",
    "            console.log(\"Transaction Hash:\", txHash);\n",
    "            if(txHash == undefined){\n",
    "                console.log(\"Transaction Error:\", err);\n",
    "            }\n",
    "        });\n",
    "    }\n",
    ");"
   ]
  },
  {
   "cell_type": "code",
   "execution_count": null,
   "metadata": {},
   "outputs": [],
   "source": []
  }
 ],
 "metadata": {
  "kernelspec": {
   "display_name": "Javascript (Node.js)",
   "language": "javascript",
   "name": "javascript"
  },
  "language_info": {
   "file_extension": ".js",
   "mimetype": "application/javascript",
   "name": "javascript",
   "version": "10.10.0"
  }
 },
 "nbformat": 4,
 "nbformat_minor": 2
}
